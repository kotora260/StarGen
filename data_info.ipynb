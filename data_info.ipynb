{
 "cells": [
  {
   "cell_type": "code",
   "execution_count": 3,
   "id": "ee50583e-1977-4f97-82ee-71ea71a628c5",
   "metadata": {
    "tags": []
   },
   "outputs": [],
   "source": [
    "import numpy as np\n",
    "import matplotlib.pyplot as plt"
   ]
  },
  {
   "cell_type": "code",
   "execution_count": 4,
   "id": "022d642f-bfd8-4e78-b856-0f4f53978e20",
   "metadata": {
    "tags": []
   },
   "outputs": [],
   "source": [
    "d400 = np.load(\"datasets/400.npz\")\n",
    "d1000 = np.load(\"datasets/1000.npz\")\n",
    "d2200 = np.load(\"datasets/2200.npz\")\n",
    "d2800 = np.load(\"datasets/2800.npz\")\n",
    "\n",
    "m400 = d400[\"arr_2\"]\n",
    "m1000 = d1000[\"arr_2\"]\n",
    "m2200 = d2200[\"arr_2\"]\n",
    "m2800 = d2800[\"arr_2\"]"
   ]
  },
  {
   "cell_type": "code",
   "execution_count": 5,
   "id": "298de350-878f-4d63-869d-7aa3d60de6ab",
   "metadata": {
    "tags": []
   },
   "outputs": [
    {
     "name": "stdout",
     "output_type": "stream",
     "text": [
      "(39, 64, 64)\n",
      "(39, 64, 64)\n",
      "(39, 64, 64)\n",
      "(39, 64, 64)\n"
     ]
    }
   ],
   "source": [
    "print(m400.shape)\n",
    "print(m1000.shape)\n",
    "print(m2200.shape)\n",
    "print(m2800.shape)"
   ]
  },
  {
   "cell_type": "code",
   "execution_count": 6,
   "id": "4539aeb3-a086-4bc1-9a24-a2ca6ca77b8d",
   "metadata": {},
   "outputs": [],
   "source": [
    "dv_400 = d400[\"arr_0\"]\n",
    "dv_1000 = d1000[\"arr_0\"]\n",
    "dv_2200 = d2200[\"arr_0\"]\n",
    "dv_2800 = d2800[\"arr_0\"]\n",
    "\n",
    "dr_400 = d400[\"arr_1\"]\n",
    "dr_1000 = d1000[\"arr_1\"]\n",
    "dr_2200 = d2200[\"arr_1\"]\n",
    "dr_2800 = d2800[\"arr_1\"]"
   ]
  },
  {
   "cell_type": "code",
   "execution_count": 7,
   "id": "6536e030-9151-4048-a128-6f7e505e2383",
   "metadata": {
    "tags": []
   },
   "outputs": [
    {
     "name": "stdout",
     "output_type": "stream",
     "text": [
      "0.65\n",
      "0.65\n",
      "0.65\n",
      "0.65\n"
     ]
    }
   ],
   "source": [
    "print(dv_400)\n",
    "print(dv_1000)\n",
    "print(dv_2200)\n",
    "print(dv_2800)"
   ]
  },
  {
   "cell_type": "code",
   "execution_count": 8,
   "id": "2713092c-9d23-43c4-9617-f9c27bec7fec",
   "metadata": {
    "tags": []
   },
   "outputs": [
    {
     "name": "stdout",
     "output_type": "stream",
     "text": [
      "1.38427734375\n",
      "1.38427734375\n",
      "1.38427734375\n",
      "1.38427734375\n"
     ]
    }
   ],
   "source": [
    "print(dr_400)\n",
    "print(dr_1000)\n",
    "print(dr_2200)\n",
    "print(dr_2800)"
   ]
  },
  {
   "cell_type": "code",
   "execution_count": null,
   "id": "265e5370-81c3-4966-ab9c-ac242564040b",
   "metadata": {},
   "outputs": [],
   "source": []
  }
 ],
 "metadata": {
  "kernelspec": {
   "display_name": "Python 3 (ipykernel)",
   "language": "python",
   "name": "python3"
  },
  "language_info": {
   "codemirror_mode": {
    "name": "ipython",
    "version": 3
   },
   "file_extension": ".py",
   "mimetype": "text/x-python",
   "name": "python",
   "nbconvert_exporter": "python",
   "pygments_lexer": "ipython3",
   "version": "3.12.0"
  }
 },
 "nbformat": 4,
 "nbformat_minor": 5
}
